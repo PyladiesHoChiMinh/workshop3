{
 "cells": [
  {
   "cell_type": "markdown",
   "metadata": {},
   "source": [
    "### Pyladies - Ho Chi Minh Chapter | Workshop 3: Introducing lists and working with lists\n",
    "\n",
    "Glad to see you in this pair assignment!\n",
    "\n",
    "A gentle reminder. Please look around and introduce yourself to a person sitting next \n",
    "to you. This assignment needs at least two of you working together. \n",
    "\n",
    "Feel free to reach out to any of us or Google for any further assitance :)\n",
    "\n",
    "\n",
    "#### Introduction\n",
    "\n",
    "This pair assignment is inspired and mostly adopted from a blog post [\"18 Most Common Python List Questions\" from DataCamp](https://www.datacamp.com/community/tutorials/18-most-common-python-list-questions-learn-python) written by Karlijn Willems.\n",
    "\n",
    "There will be at least 9 excercises for you guys to tackle. For bonus problems, it is optional. \n",
    "\n",
    "Again, try to do everything as soon as possible and keep discussing with your friend.\n",
    "\n",
    "#### Learning objectives\n",
    "\n",
    "* Review the previous lesson\n",
    "* Understand `list` by hands-on practices\n",
    "* Know about `Numpy`\n",
    "\n"
   ]
  },
  {
   "cell_type": "markdown",
   "metadata": {},
   "source": [
    "#### 1. How to concatenate a list\n",
    "\n",
    "Let us start with an simple example. Say, we have two list `northern_cities` and `southern_cities`. \n",
    "```python\n",
    "northern_cities = [\"Hanoi\", \"Hai Phong\"]\n",
    "southern_cities = [\"Hue\", \"Danang\", \"Saigon\"]\n",
    "```\n",
    "Concatenate these two lists by a variable named `vietnam_cities`"
   ]
  },
  {
   "cell_type": "code",
   "execution_count": 49,
   "metadata": {},
   "outputs": [],
   "source": [
    "northern_cities = [\"Hanoi\", \"Hai Phong\"]\n",
    "southern_cities = [\"Hue\", \"Danang\", \"Saigon\"]\n",
    "\n",
    "vietnam_cities =   # Concatenate two lists"
   ]
  },
  {
   "cell_type": "code",
   "execution_count": 48,
   "metadata": {},
   "outputs": [
    {
     "name": "stdout",
     "output_type": "stream",
     "text": [
      "['Hanoi', 'Hai Phong', 'Hue', 'Danang', 'Saigon']\n"
     ]
    }
   ],
   "source": [
    "print(vietnam_cities)"
   ]
  },
  {
   "cell_type": "markdown",
   "metadata": {},
   "source": [
    "#### 2. Access an element in a list\n",
    "\n",
    "Print the first city in a `vietnam_cities`"
   ]
  },
  {
   "cell_type": "code",
   "execution_count": 51,
   "metadata": {},
   "outputs": [
    {
     "data": {
      "text/plain": [
       "'Hanoi'"
      ]
     },
     "execution_count": 51,
     "metadata": {},
     "output_type": "execute_result"
    }
   ],
   "source": []
  },
  {
   "cell_type": "markdown",
   "metadata": {},
   "source": [
    "Print the last element in `vietnam_cities`"
   ]
  },
  {
   "cell_type": "code",
   "execution_count": 53,
   "metadata": {},
   "outputs": [
    {
     "data": {
      "text/plain": [
       "'Saigon'"
      ]
     },
     "execution_count": 53,
     "metadata": {},
     "output_type": "execute_result"
    }
   ],
   "source": []
  },
  {
   "cell_type": "markdown",
   "metadata": {},
   "source": [
    "Print the second and fourth city in `vietnam_cities`"
   ]
  },
  {
   "cell_type": "code",
   "execution_count": 43,
   "metadata": {},
   "outputs": [
    {
     "data": {
      "text/plain": [
       "['Hai Phong', 'Danang']"
      ]
     },
     "execution_count": 43,
     "metadata": {},
     "output_type": "execute_result"
    }
   ],
   "source": []
  },
  {
   "cell_type": "markdown",
   "metadata": {},
   "source": [
    "Print the 1st, 3rd, 5th city in `vietnam_cities`"
   ]
  },
  {
   "cell_type": "code",
   "execution_count": 5,
   "metadata": {},
   "outputs": [
    {
     "data": {
      "text/plain": [
       "['Hanoi', 'Hue', 'Saigon']"
      ]
     },
     "execution_count": 5,
     "metadata": {},
     "output_type": "execute_result"
    }
   ],
   "source": []
  },
  {
   "cell_type": "markdown",
   "metadata": {},
   "source": [
    "#### 3. Join elements in a lists and "
   ]
  },
  {
   "cell_type": "markdown",
   "metadata": {},
   "source": [
    "Join all cities in `vietnam_cities` into one string by `\"; \"`"
   ]
  },
  {
   "cell_type": "code",
   "execution_count": 6,
   "metadata": {},
   "outputs": [
    {
     "data": {
      "text/plain": [
       "'Hanoi; Hai Phong; Hue; Danang; Saigon'"
      ]
     },
     "execution_count": 6,
     "metadata": {},
     "output_type": "execute_result"
    }
   ],
   "source": []
  },
  {
   "cell_type": "markdown",
   "metadata": {},
   "source": [
    "** Bonus **: Do you know what how to concatenate the following list?\n",
    "```python\n",
    "numbers = [1, 2, 3, 4, 5]\n",
    "```"
   ]
  },
  {
   "cell_type": "code",
   "execution_count": 7,
   "metadata": {},
   "outputs": [],
   "source": []
  },
  {
   "cell_type": "markdown",
   "metadata": {},
   "source": [
    "#### 4. Join two lists\n",
    "\n",
    "To join two lists, we use `zip(list_1, list_2)` which will generate an object to combine to list values by index. Let us say, we have another list called `days`\n",
    "\n",
    "```python\n",
    "days = [\"Ngay 1\", \"Ngay 2\", \"Ngay 3\", \"Ngay 4\", \"Ngay 5\"]\n",
    "```\n",
    "\n",
    "Using this the following syntax\n",
    "\n",
    "```python\n",
    "agenda = \"; \\n\".join([\"{}: {}\".format(list_1_item, list_2_item) for list_1_item, city in zip(list_1, list_2)])\n",
    "```\n",
    "to create a new variable called `agenda` such as\n",
    "\n",
    "```\n",
    "Ngay 1: Hanoi; \n",
    "Ngay 2: Hai Phong; \n",
    "Ngay 3: Hue; \n",
    "Ngay 4: Danang; \n",
    "Ngay 5: Saigon\n",
    "```"
   ]
  },
  {
   "cell_type": "code",
   "execution_count": 78,
   "metadata": {},
   "outputs": [],
   "source": [
    "days = (\"Ngay 1\", \"Ngay 2\", \"Ngay 3\", \"Ngay 4\", \"Ngay 5\")"
   ]
  },
  {
   "cell_type": "code",
   "execution_count": 79,
   "metadata": {},
   "outputs": [],
   "source": []
  },
  {
   "cell_type": "code",
   "execution_count": 80,
   "metadata": {},
   "outputs": [
    {
     "name": "stdout",
     "output_type": "stream",
     "text": [
      "Ngay 1: Hanoi; \n",
      "Ngay 2: Hai Phong; \n",
      "Ngay 3: Hue; \n",
      "Ngay 4: Danang; \n",
      "Ngay 5: Saigon\n"
     ]
    }
   ],
   "source": [
    "print(agenda)"
   ]
  },
  {
   "cell_type": "markdown",
   "metadata": {},
   "source": [
    "#### 5. How to copy a list\n",
    "\n",
    "In this section, let us try to make your own agenda. Let us get started by create your list of cities, say, `my_cities` by \n",
    "\n",
    " * creating a copy of `vietnam_cities`;\n",
    " * selecting three cities for a 3-day trip\n",
    " * creating a new variable named `my_days` with three days;\n",
    " * printing a `my_agenda`"
   ]
  },
  {
   "cell_type": "code",
   "execution_count": null,
   "metadata": {},
   "outputs": [],
   "source": []
  },
  {
   "cell_type": "markdown",
   "metadata": {},
   "source": [
    "#### 6. (Bonus) How to use lambda with list concatentation\n",
    "\n",
    "In this section, we will introduce a new way to write a function in `python` without specifying a name for it, but a general name - `lambda`. For example:\n",
    "\n",
    "```\n",
    "Given two numbers a, b, calculate a squared sum of those.\n",
    "```\n",
    "\n",
    "Normally, we would do as follows:\n",
    "\n",
    "```python\n",
    "def sum_two_squares(a, b):\n",
    "    return a**2 + b**2\n",
    "    \n",
    "print(sum_two_squares(1,2))\n",
    "```\n",
    "\n",
    "By using `lambda`, it should be much simpler\n",
    "\n",
    "```python \n",
    "print(lambda a, b: a**2 + b**2)\n",
    "```\n",
    "\n",
    "To understand, let us come up with a simple exercies. \n",
    "\n",
    "```\n",
    "Given a set of ten numbers from 1 to 10, calculuate sum of squares of those.\n",
    "```\n",
    "\n",
    "Breaking down, we have a couple of steps:\n",
    "* Step 1: create a set of numbers $= \\{1,2,3,4,5,6,7,8,9,10\\}$\n",
    "  * **Hint**: try `range()`\n",
    "* Step 2: create a function to calculate a square\n",
    "  * **Hint**: either `def name_of_function(*variables)` or `lambda *variables:`\n",
    "* Step 3: take a sum over of set of numbers\n",
    "  * **Hint**: try list comprehension"
   ]
  },
  {
   "cell_type": "code",
   "execution_count": null,
   "metadata": {},
   "outputs": [],
   "source": []
  },
  {
   "cell_type": "markdown",
   "metadata": {},
   "source": [
    "#### 7. (Bonus) Count the occurenecs of the number\n",
    "\n",
    "Given a list of items. Count a number of occurences an item in that list.\n",
    "\n",
    "For example, we have the following list.\n",
    "\n",
    "```python\n",
    "import random\n",
    "numbers = [1, 2, 9, 4, 5, 4, 1]\n",
    "letters = [\"d\", \"a\", \"t\", \"a\", \"c\", \"a\", \"m\", \"p\"]\n",
    "```\n",
    "\n",
    "* **Used a built-in method**\n",
    "\n",
    "```python\n",
    "numbers.count(number_value)\n",
    "letters.count(letter)\n",
    "```"
   ]
  },
  {
   "cell_type": "code",
   "execution_count": 5,
   "metadata": {},
   "outputs": [],
   "source": [
    "# Count the occurrences of the number 4\n",
    "\n",
    "# Count the occurrences of the letter \"a\"\n"
   ]
  },
  {
   "cell_type": "code",
   "execution_count": 6,
   "metadata": {},
   "outputs": [],
   "source": [
    "# Count occurences of all letters"
   ]
  },
  {
   "cell_type": "code",
   "execution_count": 7,
   "metadata": {},
   "outputs": [],
   "source": [
    "# Import `Counter` from the `collections` library\n",
    "from collections import Counter\n",
    "\n",
    "# Pass `list` to `Counter()`\n"
   ]
  },
  {
   "cell_type": "code",
   "execution_count": 166,
   "metadata": {},
   "outputs": [
    {
     "name": "stdout",
     "output_type": "stream",
     "text": [
      "0 d\n",
      "1 a\n",
      "2 t\n",
      "3 a\n",
      "4 c\n",
      "5 a\n",
      "6 m\n",
      "7 p\n"
     ]
    }
   ],
   "source": [
    "# Loop over `myList` and print tuples of all indices and values \n",
    "for i, val in enumerate(letters):\n",
    "     print(i, val)"
   ]
  },
  {
   "cell_type": "code",
   "execution_count": null,
   "metadata": {},
   "outputs": [],
   "source": []
  },
  {
   "cell_type": "markdown",
   "metadata": {},
   "source": [
    "#### 8. (Bonus) More about lists\n",
    "\n",
    "`list` is a very interesing data structure allowing us to store `str, 'int`, `float` and even itself in one list. For example, we have\n",
    "\n",
    "```python\n",
    "list_of_list = [[],[1,2,3],[1],[2,3]]\n",
    "```\n",
    "\n",
    "##### Flatten a list\n",
    "\n",
    "Using the above list, flatten out a list as follows\n",
    "```python\n",
    "list_of_list = [[],[1,2,3],[1],[2,3]]\n",
    "\n",
    "```\n",
    "Calculate a sum of all integers inside that each `list` with \n",
    "\n",
    "* `sum()`"
   ]
  },
  {
   "cell_type": "code",
   "execution_count": null,
   "metadata": {},
   "outputs": [],
   "source": [
    "\n"
   ]
  },
  {
   "cell_type": "markdown",
   "metadata": {},
   "source": [
    "* Reduce "
   ]
  },
  {
   "cell_type": "code",
   "execution_count": null,
   "metadata": {},
   "outputs": [],
   "source": []
  },
  {
   "cell_type": "markdown",
   "metadata": {},
   "source": [
    "* List of comprehension"
   ]
  },
  {
   "cell_type": "code",
   "execution_count": null,
   "metadata": {},
   "outputs": [],
   "source": []
  },
  {
   "cell_type": "markdown",
   "metadata": {},
   "source": [
    "#### 9. Why NumPy Instead Of Python Lists?\n",
    "In general, there seem to be four reasons why Python programmers prefer NumPy arrays over lists in Python:\n",
    "\n",
    "* `NumPy` arrays are more compact than lists, but still allows us to work with high-dimensional array (`tensor`)\n",
    "* `Numpy` is accessibe in reading and writing items is faster with NumPy.\n",
    "* `NumPy` can be more convenient to work with, thanks to the fact that you get a lot of vector and matrix operations for free\n",
    "* `NumPy` can be more efficient to work with because they are implemented more efficiently."
   ]
  },
  {
   "cell_type": "markdown",
   "metadata": {},
   "source": [
    "##### Import `Numpy`"
   ]
  },
  {
   "cell_type": "code",
   "execution_count": 96,
   "metadata": {},
   "outputs": [],
   "source": [
    "import numpy as np"
   ]
  },
  {
   "cell_type": "markdown",
   "metadata": {},
   "source": [
    "##### Create a numpy array\n",
    "\n",
    "Try to create a simple `numpy` array from a list of random numbers\n",
    "```python\n",
    "    your_numpy_array = np.array(list)\n",
    "```"
   ]
  },
  {
   "cell_type": "code",
   "execution_count": null,
   "metadata": {},
   "outputs": [],
   "source": []
  },
  {
   "cell_type": "markdown",
   "metadata": {},
   "source": [
    "##### Some of other `numpy` "
   ]
  },
  {
   "cell_type": "code",
   "execution_count": 3,
   "metadata": {},
   "outputs": [],
   "source": [
    "# Make a NumPy array of four rows and two columns and filled with 0\n",
    "\n",
    "\n",
    "# Make a NumPy array of 1 values of three columns\n",
    "\n",
    "\n",
    "# Make an empty NumPy array/ tensor\n"
   ]
  },
  {
   "cell_type": "markdown",
   "metadata": {},
   "source": [
    "##### Math operations with `Numpy` array\n",
    "\n"
   ]
  },
  {
   "cell_type": "code",
   "execution_count": 126,
   "metadata": {},
   "outputs": [],
   "source": [
    "# Make a NumPy array/ tensor\n",
    "vector_1 = np.array([1, 2, 3])\n",
    "vector_2 = np.array([4, 5, 6])\n",
    "\n",
    "#Print the result\n",
    "# print(____)"
   ]
  },
  {
   "cell_type": "code",
   "execution_count": null,
   "metadata": {},
   "outputs": [],
   "source": []
  },
  {
   "cell_type": "code",
   "execution_count": null,
   "metadata": {},
   "outputs": [],
   "source": []
  },
  {
   "cell_type": "code",
   "execution_count": null,
   "metadata": {},
   "outputs": [],
   "source": []
  }
 ],
 "metadata": {
  "kernelspec": {
   "display_name": "Python 3",
   "language": "python",
   "name": "python3"
  },
  "language_info": {
   "codemirror_mode": {
    "name": "ipython",
    "version": 3
   },
   "file_extension": ".py",
   "mimetype": "text/x-python",
   "name": "python",
   "nbconvert_exporter": "python",
   "pygments_lexer": "ipython3",
   "version": "3.6.1"
  }
 },
 "nbformat": 4,
 "nbformat_minor": 2
}
