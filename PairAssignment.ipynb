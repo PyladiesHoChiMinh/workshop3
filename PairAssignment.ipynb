{
 "cells": [
  {
   "cell_type": "markdown",
   "metadata": {},
   "source": [
    "### Pyladies - Ho Chi Minh Chapter | Workshop 3: Introducing lists and working with lists\n",
    "\n",
    "Glad to see you in this pair assignment!\n",
    "\n",
    "A gentle reminder. Please look around and introduce yourself to a person sitting next \n",
    "to you. This assignment needs at least two of you working together. \n",
    "\n",
    "Feel free to reach out to any of us or Google for any further assitance :)\n",
    "\n",
    "\n",
    "#### Introduction\n",
    "\n",
    "This pair assignment is inspired and mostly adopted from a blog post [\"18 Most Common Python List Questions\" from DataCamp](https://www.datacamp.com/community/tutorials/18-most-common-python-list-questions-learn-python) written by Karlijn Willems.\n",
    "\n",
    "There will be at least 9 excercises for you guys to tackle. For bonus problems, it is optional. \n",
    "\n",
    "Again, try to do everything as soon as possible and keep discussing with your friend.\n",
    "\n",
    "#### Learning objectives\n",
    "\n",
    "* Review the previous lesson\n",
    "* Understand `list` by hands-on practices\n",
    "* Know about `Numpy`\n",
    "\n"
   ]
  },
  {
   "cell_type": "markdown",
   "metadata": {},
   "source": [
    "#### 1. How to concatenate a list\n",
    "\n",
    "Let us start with an simple example. Say, we have two list `northern_cities` and `southern_cities`. \n",
    "```python\n",
    "northern_cities = [\"Hanoi\", \"Hai Phong\"]\n",
    "southern_cities = [\"Hue\", \"Danang\", \"Saigon\"]\n",
    "```\n",
    "Concatenate these two lists by a variable named `vietnam_cities`"
   ]
  },
  {
   "cell_type": "code",
   "execution_count": 49,
   "metadata": {},
   "outputs": [],
   "source": [
    "northern_cities = [\"Hanoi\", \"Hai Phong\"]\n",
    "southern_cities = [\"Hue\", \"Danang\", \"Saigon\"]\n",
    "\n",
    "vietnam_cities = northern_cities + southern_cities    # Concatenate two lists"
   ]
  },
  {
   "cell_type": "code",
   "execution_count": 48,
   "metadata": {},
   "outputs": [
    {
     "name": "stdout",
     "output_type": "stream",
     "text": [
      "['Hanoi', 'Hai Phong', 'Hue', 'Danang', 'Saigon']\n"
     ]
    }
   ],
   "source": [
    "print(vietnam_cities)"
   ]
  },
  {
   "cell_type": "markdown",
   "metadata": {},
   "source": [
    "#### 2. Access an element in a list\n",
    "\n",
    "Print the first city in a `vietnam_cities`"
   ]
  },
  {
   "cell_type": "code",
   "execution_count": 51,
   "metadata": {},
   "outputs": [
    {
     "data": {
      "text/plain": [
       "'Hanoi'"
      ]
     },
     "execution_count": 51,
     "metadata": {},
     "output_type": "execute_result"
    }
   ],
   "source": [
    "vietnam_cities[0]"
   ]
  },
  {
   "cell_type": "markdown",
   "metadata": {},
   "source": [
    "Print the last element in `vietnam_cities`"
   ]
  },
  {
   "cell_type": "code",
   "execution_count": 53,
   "metadata": {},
   "outputs": [
    {
     "data": {
      "text/plain": [
       "'Saigon'"
      ]
     },
     "execution_count": 53,
     "metadata": {},
     "output_type": "execute_result"
    }
   ],
   "source": [
    "vietnam_cities[-1]"
   ]
  },
  {
   "cell_type": "markdown",
   "metadata": {},
   "source": [
    "Print the second and fourth city in `vietnam_cities`"
   ]
  },
  {
   "cell_type": "code",
   "execution_count": 43,
   "metadata": {},
   "outputs": [
    {
     "data": {
      "text/plain": [
       "['Hai Phong', 'Danang']"
      ]
     },
     "execution_count": 43,
     "metadata": {},
     "output_type": "execute_result"
    }
   ],
   "source": [
    "vietname_cities[1::2]"
   ]
  },
  {
   "cell_type": "markdown",
   "metadata": {},
   "source": [
    "Print the 1st, 3rd, 5th city in `vietnam_cities`"
   ]
  },
  {
   "cell_type": "code",
   "execution_count": 5,
   "metadata": {},
   "outputs": [
    {
     "data": {
      "text/plain": [
       "['Hanoi', 'Hue', 'Saigon']"
      ]
     },
     "execution_count": 5,
     "metadata": {},
     "output_type": "execute_result"
    }
   ],
   "source": [
    "vietname_cities[0::2]"
   ]
  },
  {
   "cell_type": "markdown",
   "metadata": {},
   "source": [
    "#### 3. Join elements in a lists and "
   ]
  },
  {
   "cell_type": "markdown",
   "metadata": {},
   "source": [
    "Join all cities in `vietnam_cities` into one string by `\"; \"`"
   ]
  },
  {
   "cell_type": "code",
   "execution_count": 6,
   "metadata": {},
   "outputs": [
    {
     "data": {
      "text/plain": [
       "'Hanoi; Hai Phong; Hue; Danang; Saigon'"
      ]
     },
     "execution_count": 6,
     "metadata": {},
     "output_type": "execute_result"
    }
   ],
   "source": [
    "'; '.join(vietname_cities)"
   ]
  },
  {
   "cell_type": "markdown",
   "metadata": {},
   "source": [
    "** Bonus **: Do you know what how to concatenate the following list?\n",
    "```python\n",
    "numbers = [1, 2, 3, 4, 5]\n",
    "```"
   ]
  },
  {
   "cell_type": "code",
   "execution_count": 7,
   "metadata": {},
   "outputs": [],
   "source": [
    "numbers = [1, 2, 3, 4, 5]\n",
    "# \";\".join(numbers)"
   ]
  },
  {
   "cell_type": "markdown",
   "metadata": {},
   "source": [
    "#### 4. Join two lists\n",
    "\n",
    "To join two lists, we use `zip(list_1, list_2)` which will generate an object to combine to list values by index. Let us say, we have another list called `days`\n",
    "\n",
    "```python\n",
    "days = [\"Ngay 1\", \"Ngay 2\", \"Ngay 3\", \"Ngay 4\", \"Ngay 5\"]\n",
    "```\n",
    "\n",
    "Using this the following syntax\n",
    "\n",
    "```python\n",
    "agenda = \"; \\n\".join([\"{}: {}\".format(list_1_item, list_2_item) for list_1_item, city in zip(list_1, list_2)])\n",
    "```\n",
    "to create a new variable called `agenda` such as\n",
    "\n",
    "```\n",
    "Ngay 1: Hanoi; \n",
    "Ngay 2: Hai Phong; \n",
    "Ngay 3: Hue; \n",
    "Ngay 4: Danang; \n",
    "Ngay 5: Saigon\n",
    "```"
   ]
  },
  {
   "cell_type": "code",
   "execution_count": 78,
   "metadata": {},
   "outputs": [],
   "source": [
    "days = (\"Ngay 1\", \"Ngay 2\", \"Ngay 3\", \"Ngay 4\", \"Ngay 5\")"
   ]
  },
  {
   "cell_type": "code",
   "execution_count": 79,
   "metadata": {},
   "outputs": [],
   "source": [
    "agenda = \"; \\n\".join([\"{}: {}\".format(day, city) for day, city in zip(days, vietname_cities)])"
   ]
  },
  {
   "cell_type": "code",
   "execution_count": 80,
   "metadata": {},
   "outputs": [
    {
     "name": "stdout",
     "output_type": "stream",
     "text": [
      "Ngay 1: Hanoi; \n",
      "Ngay 2: Hai Phong; \n",
      "Ngay 3: Hue; \n",
      "Ngay 4: Danang; \n",
      "Ngay 5: Saigon\n"
     ]
    }
   ],
   "source": [
    "print(agenda)"
   ]
  },
  {
   "cell_type": "markdown",
   "metadata": {},
   "source": [
    "#### 5. How to copy a list\n",
    "\n",
    "In this section, let us try to make your own agenda. Let us get started by create your list of cities, say, `my_cities` by \n",
    "\n",
    " * creating a copy of `vietnam_cities`;\n",
    " * selecting three cities for a 3-day trip\n",
    " * creating a new variable named `my_days` with three days;\n",
    " * printing a `my_agenda`"
   ]
  },
  {
   "cell_type": "code",
   "execution_count": null,
   "metadata": {},
   "outputs": [],
   "source": []
  },
  {
   "cell_type": "markdown",
   "metadata": {},
   "source": [
    "#### 6. (Bonus) How to use lambda with list concatentation\n",
    "\n",
    "In this section, we will introduce a new way to write a function in `python` without specifying a name for it, but a general name - `lambda`. For example:\n",
    "\n",
    "```\n",
    "Given two numbers a, b, calculate a squared sum of those.\n",
    "```\n",
    "\n",
    "Normally, we would do as follows:\n",
    "\n",
    "```python\n",
    "def sum_two_squares(a, b):\n",
    "    return a**2 + b**2\n",
    "    \n",
    "print(sum_two_squares(1,2))\n",
    "```\n",
    "\n",
    "By using `lambda`, it should be much simpler\n",
    "\n",
    "```python \n",
    "print(lambda a, b: a**2 + b**2)\n",
    "```\n",
    "\n",
    "To understand, let us come up with a simple exercies. \n",
    "\n",
    "```\n",
    "Given a set of ten numbers from 1 to 10, calculuate sum of squares of those.\n",
    "```\n",
    "\n",
    "Breaking down, we have a couple of steps:\n",
    "* Step 1: create a set of numbers $= \\{1,2,3,4,5,6,7,8,9,10\\}$\n",
    "  * **Hint**: try `range()`\n",
    "* Step 2: create a function to calculate a square\n",
    "  * **Hint**: either `def name_of_function(*variables)` or `lambda *variables:`\n",
    "* Step 3: take a sum over of set of numbers\n",
    "  * **Hint**: try list comprehension"
   ]
  },
  {
   "cell_type": "code",
   "execution_count": null,
   "metadata": {},
   "outputs": [],
   "source": []
  },
  {
   "cell_type": "markdown",
   "metadata": {},
   "source": [
    "#### 7. (Bonus) Count the occurenecs of the number\n",
    "\n",
    "Given a list of items. Count a number of occurences an item in that list.\n",
    "\n",
    "For example, we have the following list.\n",
    "\n",
    "```python\n",
    "import random\n",
    "numbers = [1, 2, 9, 4, 5, 4, 1]\n",
    "letters = [\"d\", \"a\", \"t\", \"a\", \"c\", \"a\", \"m\", \"p\"]\n",
    "```\n",
    "\n",
    "* **Used a built-in method**\n",
    "\n",
    "```python\n",
    "numbers.count(number_value)\n",
    "letters.count(letter)\n",
    "```"
   ]
  },
  {
   "cell_type": "code",
   "execution_count": 160,
   "metadata": {},
   "outputs": [
    {
     "name": "stdout",
     "output_type": "stream",
     "text": [
      "2\n"
     ]
    },
    {
     "data": {
      "text/plain": [
       "3"
      ]
     },
     "execution_count": 160,
     "metadata": {},
     "output_type": "execute_result"
    }
   ],
   "source": [
    "# Count the occurrences of the number 4\n",
    "print([1, 2, 9, 4, 5, 4, 1].count(4))\n",
    "\n",
    "# Count the occurrences of the letter \"a\"\n",
    "letters = [\"d\", \"a\", \"t\", \"a\", \"c\", \"a\", \"m\", \"p\"]\n",
    "letters.count(\"a\")"
   ]
  },
  {
   "cell_type": "code",
   "execution_count": 162,
   "metadata": {},
   "outputs": [
    {
     "data": {
      "text/plain": [
       "[['a', 3], ['m', 1], ['t', 1], ['p', 1], ['d', 1], ['c', 1]]"
      ]
     },
     "execution_count": 162,
     "metadata": {},
     "output_type": "execute_result"
    }
   ],
   "source": [
    "letters = [\"d\", \"a\", \"t\", \"a\", \"c\", \"a\", \"m\", \"p\"]\n",
    "[[x,list.count(x)] for x in set(letters)]"
   ]
  },
  {
   "cell_type": "code",
   "execution_count": 163,
   "metadata": {},
   "outputs": [
    {
     "data": {
      "text/plain": [
       "Counter({'a': 3, 'c': 1, 'd': 1, 'm': 1, 'p': 1, 't': 1})"
      ]
     },
     "execution_count": 163,
     "metadata": {},
     "output_type": "execute_result"
    }
   ],
   "source": [
    "# Import `Counter` from the `collections` library\n",
    "from collections import Counter\n",
    "\n",
    "# Pass `list` to `Counter()`\n",
    "Counter(letters)"
   ]
  },
  {
   "cell_type": "code",
   "execution_count": 166,
   "metadata": {},
   "outputs": [
    {
     "name": "stdout",
     "output_type": "stream",
     "text": [
      "0 d\n",
      "1 a\n",
      "2 t\n",
      "3 a\n",
      "4 c\n",
      "5 a\n",
      "6 m\n",
      "7 p\n"
     ]
    }
   ],
   "source": [
    "# Loop over `myList` and print tuples of all indices and values \n",
    "for i, val in enumerate(letters):\n",
    "     print(i, val)"
   ]
  },
  {
   "cell_type": "markdown",
   "metadata": {},
   "source": [
    "#### 8. (Bonus) More about lists\n",
    "\n",
    "`list` is a very interesing data structure allowing us to store `str, 'int`, `float` and even itself in one list. For example, we have\n",
    "\n",
    "```python\n",
    "list_of_list = [[],[1,2,3],[1],[2,3]]\n",
    "```\n",
    "\n",
    "##### Flatten a list\n",
    "\n",
    "Using the above list, flatten out a list as follows\n",
    "```python\n",
    "list_of_list = [[],[1,2,3],[1],[2,3]]\n",
    "\n",
    "```\n",
    "Calculate a sum of all integers inside that each `list` with \n",
    "\n",
    "* `sum()`"
   ]
  },
  {
   "cell_type": "code",
   "execution_count": 138,
   "metadata": {},
   "outputs": [
    {
     "name": "stdout",
     "output_type": "stream",
     "text": [
      "2.0\n"
     ]
    }
   ],
   "source": [
    "# Your initial list of lists\n",
    "list_of_list = [[],[1,2,3],[1],[2,3]]\n",
    "\n",
    "# Flatten out your original list of lists with `sum()`\n",
    "your_list = sum(list_of_list, [])\n",
    "\n",
    "# Calculate mean()\n",
    "print(sum(your_list) / len(your_list))\n"
   ]
  },
  {
   "cell_type": "markdown",
   "metadata": {},
   "source": [
    "* Reduce "
   ]
  },
  {
   "cell_type": "code",
   "execution_count": 99,
   "metadata": {},
   "outputs": [
    {
     "name": "stdout",
     "output_type": "stream",
     "text": [
      "[1, 2, 3, 4, 5, 6]\n",
      "[1, 2, 3, 4, 5, 6]\n"
     ]
    }
   ],
   "source": [
    "# You can reduce the lists of lists of lists like this\n",
    "from functools import reduce\n",
    "print(reduce(lambda x,y: x+y,listOfLists))\n",
    "\n",
    "# Or you can use list comprehension\n",
    "print([item for sublist in listOfLists for item in sublist])"
   ]
  },
  {
   "cell_type": "markdown",
   "metadata": {},
   "source": [
    "* List of comprehension"
   ]
  },
  {
   "cell_type": "code",
   "execution_count": 85,
   "metadata": {},
   "outputs": [
    {
     "ename": "NameError",
     "evalue": "name 'list2' is not defined",
     "output_type": "error",
     "traceback": [
      "\u001b[0;31m---------------------------------------------------------------------------\u001b[0m",
      "\u001b[0;31mNameError\u001b[0m                                 Traceback (most recent call last)",
      "\u001b[0;32m<ipython-input-85-b71f18f5c54e>\u001b[0m in \u001b[0;36m<module>\u001b[0;34m()\u001b[0m\n\u001b[1;32m      1\u001b[0m \u001b[0;31m# Intersect both lists with list comprehension\u001b[0m\u001b[0;34m\u001b[0m\u001b[0;34m\u001b[0m\u001b[0m\n\u001b[0;32m----> 2\u001b[0;31m \u001b[0mintersection\u001b[0m \u001b[0;34m=\u001b[0m \u001b[0;34m[\u001b[0m\u001b[0mlist\u001b[0m\u001b[0;34m(\u001b[0m\u001b[0mfilter\u001b[0m\u001b[0;34m(\u001b[0m\u001b[0;32mlambda\u001b[0m \u001b[0mx\u001b[0m\u001b[0;34m:\u001b[0m \u001b[0mx\u001b[0m \u001b[0;32min\u001b[0m \u001b[0mlist1\u001b[0m\u001b[0;34m,\u001b[0m \u001b[0msublist\u001b[0m\u001b[0;34m)\u001b[0m\u001b[0;34m)\u001b[0m \u001b[0;32mfor\u001b[0m \u001b[0msublist\u001b[0m \u001b[0;32min\u001b[0m \u001b[0mlist2\u001b[0m\u001b[0;34m]\u001b[0m\u001b[0;34m\u001b[0m\u001b[0m\n\u001b[0m\u001b[1;32m      3\u001b[0m \u001b[0;34m\u001b[0m\u001b[0m\n\u001b[1;32m      4\u001b[0m \u001b[0;31m# Print the result of the intersection\u001b[0m\u001b[0;34m\u001b[0m\u001b[0;34m\u001b[0m\u001b[0m\n\u001b[1;32m      5\u001b[0m \u001b[0mprint\u001b[0m\u001b[0;34m(\u001b[0m\u001b[0m____\u001b[0m\u001b[0;34m)\u001b[0m\u001b[0;34m\u001b[0m\u001b[0m\n",
      "\u001b[0;31mNameError\u001b[0m: name 'list2' is not defined"
     ]
    }
   ],
   "source": [
    "# Intersect both lists with list comprehension\n",
    "intersection = [list(filter(lambda x: x in list1, sublist)) for sublist in list2]\n",
    "\n",
    "# Print the result of the intersection\n",
    "print(____)"
   ]
  },
  {
   "cell_type": "markdown",
   "metadata": {},
   "source": [
    "#### 9. Why NumPy Instead Of Python Lists?\n",
    "In general, there seem to be four reasons why Python programmers prefer NumPy arrays over lists in Python:\n",
    "\n",
    "* `NumPy` arrays are more **compact** than lists, but still allows us to work with high-dimensional array (`tensor`)\n",
    "* `Numpy` is **accessibe** in reading and writing items is faster with NumPy by a low-level framework written in `C/C++`\n",
    "* `NumPy` can be more **convenient** to work with, thanks to the fact that you get a lot of vector and matrix operations for free\n",
    "* `NumPy` can be more **efficient** to work with because they are implemented more efficiently."
   ]
  },
  {
   "cell_type": "markdown",
   "metadata": {},
   "source": [
    "##### Import `Numpy`"
   ]
  },
  {
   "cell_type": "code",
   "execution_count": 96,
   "metadata": {},
   "outputs": [],
   "source": [
    "import numpy as np"
   ]
  },
  {
   "cell_type": "markdown",
   "metadata": {},
   "source": [
    "##### Create a numpy array\n",
    "\n",
    "Try to create a simple `numpy` array from a list of random numbers\n",
    "```python\n",
    "    your_numpy_array = np.array(list)\n",
    "```"
   ]
  },
  {
   "cell_type": "code",
   "execution_count": 123,
   "metadata": {},
   "outputs": [
    {
     "name": "stdout",
     "output_type": "stream",
     "text": [
      "[3 8 7 1 8 4 6 6 0 9]\n"
     ]
    }
   ],
   "source": [
    "a = np.random.randint(10, size=(10))\n",
    "print(a)"
   ]
  },
  {
   "cell_type": "markdown",
   "metadata": {},
   "source": [
    "##### Some of other `numpy` "
   ]
  },
  {
   "cell_type": "code",
   "execution_count": 127,
   "metadata": {},
   "outputs": [
    {
     "data": {
      "text/plain": [
       "array([], shape=(0, 0), dtype=float64)"
      ]
     },
     "execution_count": 127,
     "metadata": {},
     "output_type": "execute_result"
    }
   ],
   "source": [
    "# Make a NumPy array of four rows and two columns and filled with 0\n",
    "numpy.zeros(shape=(4,2))\n",
    "\n",
    "# Make a NumPy array of 1 values of three columns\n",
    "numpy.ones(3)\n",
    "\n",
    "# Make an empty NumPy array/ tensor\n",
    "numpy.empty(shape=(0,0))"
   ]
  },
  {
   "cell_type": "markdown",
   "metadata": {},
   "source": [
    "##### Math operations with `Numpy` array\n",
    "\n"
   ]
  },
  {
   "cell_type": "code",
   "execution_count": 126,
   "metadata": {},
   "outputs": [],
   "source": [
    "# Make a NumPy array/ tensor\n",
    "vector_1 = np.array([1, 2, 3])\n",
    "vector_2 = np.array([4, 5, 6])\n",
    "\n",
    "#Print the result\n",
    "# print(____)"
   ]
  },
  {
   "cell_type": "code",
   "execution_count": 109,
   "metadata": {},
   "outputs": [
    {
     "name": "stdout",
     "output_type": "stream",
     "text": [
      "[5 7 9]\n"
     ]
    }
   ],
   "source": [
    "sum_vector = vector_1 + vector_2 \n",
    "print(sum_vector)"
   ]
  },
  {
   "cell_type": "code",
   "execution_count": 125,
   "metadata": {},
   "outputs": [
    {
     "name": "stdout",
     "output_type": "stream",
     "text": [
      "6.0\n"
     ]
    }
   ],
   "source": [
    "# Return the 50th percentile of our NumPy array\n",
    "p = np.percentile(a, 50)\n",
    "print(p)"
   ]
  }
 ],
 "metadata": {
  "kernelspec": {
   "display_name": "Python 3",
   "language": "python",
   "name": "python3"
  },
  "language_info": {
   "codemirror_mode": {
    "name": "ipython",
    "version": 3
   },
   "file_extension": ".py",
   "mimetype": "text/x-python",
   "name": "python",
   "nbconvert_exporter": "python",
   "pygments_lexer": "ipython3",
   "version": "3.6.1"
  }
 },
 "nbformat": 4,
 "nbformat_minor": 2
}
